{
 "cells": [
  {
   "cell_type": "code",
   "execution_count": 44,
   "metadata": {},
   "outputs": [],
   "source": [
    "from nltk.corpus import stopwords \n",
    "from nltk.stem.wordnet import WordNetLemmatizer\n",
    "import string\n",
    "import numpy\n",
    "import gensim\n",
    "from gensim import corpora\n",
    "from nltk.sentiment.vader import SentimentIntensityAnalyzer"
   ]
  },
  {
   "cell_type": "code",
   "execution_count": 24,
   "metadata": {},
   "outputs": [
    {
     "name": "stdout",
     "output_type": "stream",
     "text": [
      "Divided we fall? Australia labor unions' slump may be one reason for low wages growth\\\n",
      "Golf - Mickelson silent after final round at U.S. Open\\\n",
      "Despite the odds, Prauge Zoo successfully bred three white-belted ruffed baby lemurs\\\n",
      "Panasonic halts operations at 2 Osaka plants after Japan earthquake\\\n",
      "Earthquake of 5.6 magnitude strikes Guatemala - USGS\\\n",
      "FIFA probes chants by Mexico fans for homophobia\\\n",
      "Unilever takes stand against digital media's fake followers.\\\n",
      "@JLDastin and @Stephen nellis report Microsoft is gearing up to eliminate cashiers and checkout lines from stores, in a nascent challenge to Amazon's automated grocery shop. More from this week's ICYMI playlist:\\\n",
      "reporters Wa Lone and Kyaw Soe Oo have been detained in Myanmar since Dec 12, 2017\\\n",
      "Dollar approaches seven-month high, trade tensions limit gains\\\n",
      "or Algerians, Ramadan brings Zalabia, a famous dessert from the town of Boufarik\\\n",
      "Oil prices fall on expectation Russia, Saudi Arabia will raise output \\\n",
      "Japan's exports accelerate in May, surplus with U.S. lowest since 2013\\\n",
      "Incredible footage shows hundreds of thousands of people in Bangladesh scrambling onto trains in hope of returning home for Eid celebrations\\\n",
      "Colombia president-elect vows to unite nation, alter peace deal\\\n",
      "Asian shares fall as Sino-U.S. trade spat intensifies\\\n",
      "Mexico stun champions Germany 1-0 in World Cup opener\\\n",
      "PM May's Brexit plans set for defeat, teeing up Wednesday showdown \\\n",
      "No need to panic says Loew after shock Mexico defeat\\\n",
      "Kansai earthquake had a magnitude of 6.1 - Japan Meteorological Agency\\\n",
      "Colombia's Petro accepts defeat, says will not govern 'for now'\\\n",
      "Say goodbye to net neutrality: As the U.S. open internet rules expires, sweeping new powers are handed to internet providers.\\\n",
      "Suspect dead after 20 hurt in shooting at New Jersey arts festival\\\n",
      "Turkey's jailed pro-Kurdish candidate in first TV appearance for 20 months\\\n",
      "\\pard\\pardeftab720\\sl320\\partightenfactor0\n",
      "\\cf2 \\cb3 Internet providers now have the power to block, throttle or offer paid 'fast lanes' for web traffic as new neutrality ends\\\n",
      "Former NBA player Hickson facing armed robbery charge\\\n",
      "Silicon Valley titan @timdraper thinks California is dysfunctional. His solution: splitting the state into three parts\\\n",
      " Microsoft takes aim at Amazon with push for checkout-free retail and more of the week's top stories\\\n",
      "UK interior minister says was victim of moped theft, pledges police action }\n"
     ]
    }
   ],
   "source": [
    "with open(\"Reuters_tweets.txt\",\"r\") as f:\n",
    "    for tweet in f.read().split('\\n')[8:]:\n",
    "        print(tweet)"
   ]
  },
  {
   "cell_type": "code",
   "execution_count": 33,
   "metadata": {},
   "outputs": [],
   "source": [
    "stop = set(stopwords.words('english')) \n",
    "exclude = set(string.punctuation) \n",
    "lemma = WordNetLemmatizer() "
   ]
  },
  {
   "cell_type": "code",
   "execution_count": 34,
   "metadata": {},
   "outputs": [],
   "source": [
    "def clean(doc):\n",
    "    \n",
    "    stop_free = \" \".join([i for i in doc.lower().split() if i not in stop])\n",
    "    punc_free = ''.join(ch for ch in stop_free if ch not in exclude)\n",
    "    normalized = \" \".join(lemma.lemmatize(word) for word in punc_free.split())\n",
    "\n",
    "    return normalized"
   ]
  },
  {
   "cell_type": "code",
   "execution_count": 49,
   "metadata": {},
   "outputs": [],
   "source": [
    "file = open(\"Reuters_tweets.txt\",\"r\")\n",
    "doc_clean = [clean(doc).split() for doc in file][8:]"
   ]
  },
  {
   "cell_type": "code",
   "execution_count": 39,
   "metadata": {},
   "outputs": [],
   "source": [
    "dictionary = corpora.Dictionary(doc_clean)\n",
    "doc_term_matrix = [dictionary.doc2bow(doc) for doc in doc_clean]\n",
    "Lda = gensim.models.ldamodel.LdaModel"
   ]
  },
  {
   "cell_type": "code",
   "execution_count": 50,
   "metadata": {},
   "outputs": [
    {
     "data": {
      "text/plain": [
       "[(0,\n",
       "  '0.033*\"mexico\" + 0.012*\"may\" + 0.012*\"fall\" + 0.012*\"since\" + 0.012*\"soe\"'),\n",
       " (1,\n",
       "  '0.020*\"earthquake\" + 0.020*\"week\" + 0.020*\"amazon\" + 0.020*\"microsoft\" + 0.011*\"icymi\"'),\n",
       " (2,\n",
       "  '0.015*\"defeat\" + 0.015*\"say\" + 0.015*\"take\" + 0.015*\"colombia\" + 0.015*\"dysfunctional\"'),\n",
       " (3,\n",
       "  '0.019*\"20\" + 0.019*\"three\" + 0.019*\"prauge\" + 0.019*\"ruffed\" + 0.019*\"odds\"'),\n",
       " (4,\n",
       "  '0.030*\"new\" + 0.030*\"internet\" + 0.020*\"u\" + 0.020*\"japan\" + 0.020*\"provider\"'),\n",
       " (5,\n",
       "  '0.014*\"say\" + 0.014*\"trade\" + 0.014*\"fall\" + 0.014*\"onto\" + 0.014*\"people\"')]"
      ]
     },
     "execution_count": 50,
     "metadata": {},
     "output_type": "execute_result"
    }
   ],
   "source": [
    "ldamodel = Lda(doc_term_matrix, num_topics=6, id2word = dictionary, passes=200)\n",
    "ldamodel.print_topics(num_topics=6, num_words=5)"
   ]
  },
  {
   "cell_type": "code",
   "execution_count": 45,
   "metadata": {},
   "outputs": [],
   "source": [
    "sid = SentimentIntensityAnalyzer()"
   ]
  },
  {
   "cell_type": "code",
   "execution_count": 47,
   "metadata": {},
   "outputs": [
    {
     "name": "stdout",
     "output_type": "stream",
     "text": [
      "Divided we fall? Australia labor unions' slump may be one reason for low wages growth\\\n",
      "compound: -0.2732, neg: 0.13, neu: 0.87, pos: 0.0, \n",
      "Golf - Mickelson silent after final round at U.S. Open\\\n",
      "compound: 0.0, neg: 0.0, neu: 1.0, pos: 0.0, \n",
      "Despite the odds, Prauge Zoo successfully bred three white-belted ruffed baby lemurs\\\n",
      "compound: 0.4939, neg: 0.0, neu: 0.775, pos: 0.225, \n",
      "Panasonic halts operations at 2 Osaka plants after Japan earthquake\\\n",
      "compound: 0.0, neg: 0.0, neu: 1.0, pos: 0.0, \n",
      "Earthquake of 5.6 magnitude strikes Guatemala - USGS\\\n",
      "compound: -0.3612, neg: 0.294, neu: 0.706, pos: 0.0, \n",
      "FIFA probes chants by Mexico fans for homophobia\\\n",
      "compound: 0.0, neg: 0.0, neu: 1.0, pos: 0.0, \n",
      "Unilever takes stand against digital media's fake followers.\\\n",
      "compound: -0.4767, neg: 0.307, neu: 0.693, pos: 0.0, \n",
      "@JLDastin and @Stephen nellis report Microsoft is gearing up to eliminate cashiers and checkout lines from stores, in a nascent challenge to Amazon's automated grocery shop. More from this week's ICYMI playlist:\\\n",
      "compound: 0.0772, neg: 0.0, neu: 0.958, pos: 0.042, \n",
      "reporters Wa Lone and Kyaw Soe Oo have been detained in Myanmar since Dec 12, 2017\\\n",
      "compound: -0.5859, neg: 0.255, neu: 0.745, pos: 0.0, \n",
      "Dollar approaches seven-month high, trade tensions limit gains\\\n",
      "compound: -0.4019, neg: 0.278, neu: 0.722, pos: 0.0, \n",
      "or Algerians, Ramadan brings Zalabia, a famous dessert from the town of Boufarik\\\n",
      "compound: 0.0, neg: 0.0, neu: 1.0, pos: 0.0, \n",
      "Oil prices fall on expectation Russia, Saudi Arabia will raise output \\\n",
      "compound: 0.0, neg: 0.0, neu: 1.0, pos: 0.0, \n",
      "Japan's exports accelerate in May, surplus with U.S. lowest since 2013\\\n",
      "compound: -0.3818, neg: 0.206, neu: 0.794, pos: 0.0, \n",
      "Incredible footage shows hundreds of thousands of people in Bangladesh scrambling onto trains in hope of returning home for Eid celebrations\\\n",
      "compound: 0.4404, neg: 0.0, neu: 0.873, pos: 0.127, \n",
      "Colombia president-elect vows to unite nation, alter peace deal\\\n",
      "compound: 0.5423, neg: 0.0, neu: 0.696, pos: 0.304, \n",
      "Asian shares fall as Sino-U.S. trade spat intensifies\\\n",
      "compound: 0.296, neg: 0.0, neu: 0.761, pos: 0.239, \n",
      "Mexico stun champions Germany 1-0 in World Cup opener\\\n",
      "compound: 0.5267, neg: 0.0, neu: 0.702, pos: 0.298, \n",
      "PM May's Brexit plans set for defeat, teeing up Wednesday showdown \\\n",
      "compound: -0.4588, neg: 0.231, neu: 0.769, pos: 0.0, \n",
      "No need to panic says Loew after shock Mexico defeat\\\n",
      "compound: -0.7964, neg: 0.536, neu: 0.464, pos: 0.0, \n",
      "Kansai earthquake had a magnitude of 6.1 - Japan Meteorological Agency\\\n",
      "compound: 0.0, neg: 0.0, neu: 1.0, pos: 0.0, \n",
      "Colombia's Petro accepts defeat, says will not govern 'for now'\\\n",
      "compound: -0.1779, neg: 0.226, neu: 0.602, pos: 0.173, \n",
      "Say goodbye to net neutrality: As the U.S. open internet rules expires, sweeping new powers are handed to internet providers.\\\n",
      "compound: 0.0, neg: 0.0, neu: 1.0, pos: 0.0, \n",
      "Suspect dead after 20 hurt in shooting at New Jersey arts festival\\\n",
      "compound: -0.872, neg: 0.524, neu: 0.476, pos: 0.0, \n",
      "Turkey's jailed pro-Kurdish candidate in first TV appearance for 20 months\\\n",
      "compound: -0.4939, neg: 0.242, neu: 0.758, pos: 0.0, \n",
      "\\pard\\pardeftab720\\sl320\\partightenfactor0\n",
      "compound: 0.0, neg: 0.0, neu: 1.0, pos: 0.0, \n",
      "\\cf2 \\cb3 Internet providers now have the power to block, throttle or offer paid 'fast lanes' for web traffic as new neutrality ends\\\n",
      "compound: -0.4404, neg: 0.116, neu: 0.884, pos: 0.0, \n",
      "Former NBA player Hickson facing armed robbery charge\\\n",
      "compound: 0.0, neg: 0.0, neu: 1.0, pos: 0.0, \n",
      "Silicon Valley titan @timdraper thinks California is dysfunctional. His solution: splitting the state into three parts\\\n",
      "compound: 0.3182, neg: 0.0, neu: 0.867, pos: 0.133, \n",
      " Microsoft takes aim at Amazon with push for checkout-free retail and more of the week's top stories\\\n",
      "compound: 0.3612, neg: 0.0, neu: 0.811, pos: 0.189, \n",
      "UK interior minister says was victim of moped theft, pledges police action }\n",
      "compound: -0.2732, neg: 0.16, neu: 0.84, pos: 0.0, \n"
     ]
    }
   ],
   "source": [
    "with open(\"Reuters_tweets.txt\",\"r\") as f:\n",
    "    for tweet in f.read().split('\\n')[8:]:\n",
    "        print(tweet)\n",
    "        ss = sid.polarity_scores(tweet)\n",
    "        for k in sorted(ss):\n",
    "            print('{0}: {1}, '.format(k, ss[k]), end='')\n",
    "        print()"
   ]
  },
  {
   "cell_type": "code",
   "execution_count": null,
   "metadata": {},
   "outputs": [],
   "source": []
  }
 ],
 "metadata": {
  "kernelspec": {
   "display_name": "Python 3",
   "language": "python",
   "name": "python3"
  },
  "language_info": {
   "codemirror_mode": {
    "name": "ipython",
    "version": 3
   },
   "file_extension": ".py",
   "mimetype": "text/x-python",
   "name": "python",
   "nbconvert_exporter": "python",
   "pygments_lexer": "ipython3",
   "version": "3.6.5"
  }
 },
 "nbformat": 4,
 "nbformat_minor": 2
}
