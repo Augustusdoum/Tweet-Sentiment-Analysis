{
 "cells": [
  {
   "cell_type": "markdown",
   "metadata": {},
   "source": [
    "# Quick Python Sentiment Analysis on scrapped Reuters Tweets"
   ]
  },
  {
   "cell_type": "markdown",
   "metadata": {},
   "source": [
    "### First step : Topic modeling, we'll extract the common semantic structures from the tweets"
   ]
  },
  {
   "cell_type": "markdown",
   "metadata": {},
   "source": [
    "Let's import the needed packages for my analysis"
   ]
  },
  {
   "cell_type": "code",
   "execution_count": 51,
   "metadata": {},
   "outputs": [],
   "source": [
    "from nltk.corpus import stopwords \n",
    "from nltk.stem.wordnet import WordNetLemmatizer\n",
    "import string\n",
    "import numpy\n",
    "import gensim\n",
    "from gensim import corpora\n",
    "from nltk.sentiment.vader import SentimentIntensityAnalyzer"
   ]
  },
  {
   "cell_type": "markdown",
   "metadata": {},
   "source": [
    "Let's start by visualizing the first few tweets I scrapped"
   ]
  },
  {
   "cell_type": "code",
   "execution_count": 54,
   "metadata": {},
   "outputs": [
    {
     "name": "stdout",
     "output_type": "stream",
     "text": [
      "Divided we fall? Australia labor unions' slump may be one reason for low wages growth\\\n",
      "Golf - Mickelson silent after final round at U.S. Open\\\n",
      "Despite the odds, Prauge Zoo successfully bred three white-belted ruffed baby lemurs\\\n",
      "Panasonic halts operations at 2 Osaka plants after Japan earthquake\\\n",
      "Earthquake of 5.6 magnitude strikes Guatemala - USGS\\\n",
      "FIFA probes chants by Mexico fans for homophobia\\\n",
      "Unilever takes stand against digital media's fake followers.\\\n"
     ]
    }
   ],
   "source": [
    "with open(\"Reuters_tweets.txt\",\"r\") as f:\n",
    "    for tweet in f.read().split('\\n')[8:15]:\n",
    "        print(tweet)"
   ]
  },
  {
   "cell_type": "markdown",
   "metadata": {},
   "source": [
    " We have to filter and clean the data before analyzing it "
   ]
  },
  {
   "cell_type": "code",
   "execution_count": 33,
   "metadata": {},
   "outputs": [],
   "source": [
    "stop = set(stopwords.words('english')) \n",
    "exclude = set(string.punctuation) \n",
    "lemma = WordNetLemmatizer() "
   ]
  },
  {
   "cell_type": "code",
   "execution_count": 34,
   "metadata": {},
   "outputs": [],
   "source": [
    "def clean(doc):\n",
    "    \n",
    "    stop_free = \" \".join([i for i in doc.lower().split() if i not in stop])\n",
    "    punc_free = ''.join(ch for ch in stop_free if ch not in exclude)\n",
    "    normalized = \" \".join(lemma.lemmatize(word) for word in punc_free.split())\n",
    "\n",
    "    return normalized"
   ]
  },
  {
   "cell_type": "code",
   "execution_count": 49,
   "metadata": {},
   "outputs": [],
   "source": [
    "file = open(\"Reuters_tweets.txt\",\"r\")\n",
    "doc_clean = [clean(doc).split() for doc in file][8:]"
   ]
  },
  {
   "cell_type": "markdown",
   "metadata": {},
   "source": [
    "Now that the data has been cleaned, I can use my topic model tool (Using LDA)"
   ]
  },
  {
   "cell_type": "code",
   "execution_count": 39,
   "metadata": {},
   "outputs": [],
   "source": [
    "dictionary = corpora.Dictionary(doc_clean)\n",
    "doc_term_matrix = [dictionary.doc2bow(doc) for doc in doc_clean]\n",
    "Lda = gensim.models.ldamodel.LdaModel"
   ]
  },
  {
   "cell_type": "code",
   "execution_count": 57,
   "metadata": {},
   "outputs": [
    {
     "data": {
      "text/plain": [
       "[(0,\n",
       "  '0.020*\"japan\" + 0.020*\"trade\" + 0.020*\"fall\" + 0.020*\"u\" + 0.020*\"since\"'),\n",
       " (1,\n",
       "  '0.029*\"say\" + 0.029*\"defeat\" + 0.015*\"colombia\" + 0.015*\"earthquake\" + 0.015*\"2017\"'),\n",
       " (2,\n",
       "  '0.024*\"mexico\" + 0.023*\"may\" + 0.023*\"world\" + 0.023*\"plan\" + 0.023*\"brexit\"'),\n",
       " (3,\n",
       "  '0.015*\"fall\" + 0.015*\"take\" + 0.015*\"solution\" + 0.015*\"part\" + 0.015*\"splitting\"'),\n",
       " (4,\n",
       "  '0.012*\"amazon\" + 0.012*\"week\" + 0.012*\"microsoft\" + 0.012*\"peace\" + 0.012*\"deal\"'),\n",
       " (5,\n",
       "  '0.017*\"new\" + 0.017*\"three\" + 0.017*\"ruffed\" + 0.017*\"successfully\" + 0.017*\"zoo\"'),\n",
       " (6,\n",
       "  '0.021*\"ramadan\" + 0.021*\"dessert\" + 0.021*\"zalabia\" + 0.021*\"town\" + 0.021*\"bangladesh\"'),\n",
       " (7,\n",
       "  '0.034*\"internet\" + 0.018*\"new\" + 0.018*\"earthquake\" + 0.018*\"u\" + 0.018*\"magnitude\"')]"
      ]
     },
     "execution_count": 57,
     "metadata": {},
     "output_type": "execute_result"
    }
   ],
   "source": [
    "ldamodel = Lda(doc_term_matrix, num_topics=8, id2word = dictionary, passes=200)\n",
    "ldamodel.print_topics(num_topics=8, num_words=5)"
   ]
  },
  {
   "cell_type": "markdown",
   "metadata": {},
   "source": [
    "Quick comments on the output : Results are interesting, some words definitely should belong under the same thematic (\"Brexit\", \"plan\", \"may\" in topic number 2 for example). However since my data set is quite small as it was extraced simply for the purpose of this demonstration, my model struggles to find words in the same semantic structure. With a larger dataset & model training the output would be much more interesting."
   ]
  },
  {
   "cell_type": "markdown",
   "metadata": {},
   "source": [
    "### Step two : Sentiment Analysis, we'll look at whether a tweet is more positive, neutral or negative"
   ]
  },
  {
   "cell_type": "markdown",
   "metadata": {},
   "source": [
    "I'll start by calling the Sentiment Analysis tool "
   ]
  },
  {
   "cell_type": "code",
   "execution_count": 45,
   "metadata": {},
   "outputs": [],
   "source": [
    "sid = SentimentIntensityAnalyzer()"
   ]
  },
  {
   "cell_type": "markdown",
   "metadata": {},
   "source": [
    "Now let's use it on every tweet in my extract :"
   ]
  },
  {
   "cell_type": "code",
   "execution_count": 47,
   "metadata": {},
   "outputs": [
    {
     "name": "stdout",
     "output_type": "stream",
     "text": [
      "Divided we fall? Australia labor unions' slump may be one reason for low wages growth\\\n",
      "compound: -0.2732, neg: 0.13, neu: 0.87, pos: 0.0, \n",
      "Golf - Mickelson silent after final round at U.S. Open\\\n",
      "compound: 0.0, neg: 0.0, neu: 1.0, pos: 0.0, \n",
      "Despite the odds, Prauge Zoo successfully bred three white-belted ruffed baby lemurs\\\n",
      "compound: 0.4939, neg: 0.0, neu: 0.775, pos: 0.225, \n",
      "Panasonic halts operations at 2 Osaka plants after Japan earthquake\\\n",
      "compound: 0.0, neg: 0.0, neu: 1.0, pos: 0.0, \n",
      "Earthquake of 5.6 magnitude strikes Guatemala - USGS\\\n",
      "compound: -0.3612, neg: 0.294, neu: 0.706, pos: 0.0, \n",
      "FIFA probes chants by Mexico fans for homophobia\\\n",
      "compound: 0.0, neg: 0.0, neu: 1.0, pos: 0.0, \n",
      "Unilever takes stand against digital media's fake followers.\\\n",
      "compound: -0.4767, neg: 0.307, neu: 0.693, pos: 0.0, \n",
      "@JLDastin and @Stephen nellis report Microsoft is gearing up to eliminate cashiers and checkout lines from stores, in a nascent challenge to Amazon's automated grocery shop. More from this week's ICYMI playlist:\\\n",
      "compound: 0.0772, neg: 0.0, neu: 0.958, pos: 0.042, \n",
      "reporters Wa Lone and Kyaw Soe Oo have been detained in Myanmar since Dec 12, 2017\\\n",
      "compound: -0.5859, neg: 0.255, neu: 0.745, pos: 0.0, \n",
      "Dollar approaches seven-month high, trade tensions limit gains\\\n",
      "compound: -0.4019, neg: 0.278, neu: 0.722, pos: 0.0, \n",
      "or Algerians, Ramadan brings Zalabia, a famous dessert from the town of Boufarik\\\n",
      "compound: 0.0, neg: 0.0, neu: 1.0, pos: 0.0, \n",
      "Oil prices fall on expectation Russia, Saudi Arabia will raise output \\\n",
      "compound: 0.0, neg: 0.0, neu: 1.0, pos: 0.0, \n",
      "Japan's exports accelerate in May, surplus with U.S. lowest since 2013\\\n",
      "compound: -0.3818, neg: 0.206, neu: 0.794, pos: 0.0, \n",
      "Incredible footage shows hundreds of thousands of people in Bangladesh scrambling onto trains in hope of returning home for Eid celebrations\\\n",
      "compound: 0.4404, neg: 0.0, neu: 0.873, pos: 0.127, \n",
      "Colombia president-elect vows to unite nation, alter peace deal\\\n",
      "compound: 0.5423, neg: 0.0, neu: 0.696, pos: 0.304, \n",
      "Asian shares fall as Sino-U.S. trade spat intensifies\\\n",
      "compound: 0.296, neg: 0.0, neu: 0.761, pos: 0.239, \n",
      "Mexico stun champions Germany 1-0 in World Cup opener\\\n",
      "compound: 0.5267, neg: 0.0, neu: 0.702, pos: 0.298, \n",
      "PM May's Brexit plans set for defeat, teeing up Wednesday showdown \\\n",
      "compound: -0.4588, neg: 0.231, neu: 0.769, pos: 0.0, \n",
      "No need to panic says Loew after shock Mexico defeat\\\n",
      "compound: -0.7964, neg: 0.536, neu: 0.464, pos: 0.0, \n",
      "Kansai earthquake had a magnitude of 6.1 - Japan Meteorological Agency\\\n",
      "compound: 0.0, neg: 0.0, neu: 1.0, pos: 0.0, \n",
      "Colombia's Petro accepts defeat, says will not govern 'for now'\\\n",
      "compound: -0.1779, neg: 0.226, neu: 0.602, pos: 0.173, \n",
      "Say goodbye to net neutrality: As the U.S. open internet rules expires, sweeping new powers are handed to internet providers.\\\n",
      "compound: 0.0, neg: 0.0, neu: 1.0, pos: 0.0, \n",
      "Suspect dead after 20 hurt in shooting at New Jersey arts festival\\\n",
      "compound: -0.872, neg: 0.524, neu: 0.476, pos: 0.0, \n",
      "Turkey's jailed pro-Kurdish candidate in first TV appearance for 20 months\\\n",
      "compound: -0.4939, neg: 0.242, neu: 0.758, pos: 0.0, \n",
      "\\pard\\pardeftab720\\sl320\\partightenfactor0\n",
      "compound: 0.0, neg: 0.0, neu: 1.0, pos: 0.0, \n",
      "\\cf2 \\cb3 Internet providers now have the power to block, throttle or offer paid 'fast lanes' for web traffic as new neutrality ends\\\n",
      "compound: -0.4404, neg: 0.116, neu: 0.884, pos: 0.0, \n",
      "Former NBA player Hickson facing armed robbery charge\\\n",
      "compound: 0.0, neg: 0.0, neu: 1.0, pos: 0.0, \n",
      "Silicon Valley titan @timdraper thinks California is dysfunctional. His solution: splitting the state into three parts\\\n",
      "compound: 0.3182, neg: 0.0, neu: 0.867, pos: 0.133, \n",
      " Microsoft takes aim at Amazon with push for checkout-free retail and more of the week's top stories\\\n",
      "compound: 0.3612, neg: 0.0, neu: 0.811, pos: 0.189, \n",
      "UK interior minister says was victim of moped theft, pledges police action }\n",
      "compound: -0.2732, neg: 0.16, neu: 0.84, pos: 0.0, \n"
     ]
    }
   ],
   "source": [
    "with open(\"Reuters_tweets.txt\",\"r\") as f:\n",
    "    for tweet in f.read().split('\\n')[8:]:\n",
    "        print(tweet)\n",
    "        ss = sid.polarity_scores(tweet)\n",
    "        for k in sorted(ss):\n",
    "            print('{0}: {1}, '.format(k, ss[k]), end='')\n",
    "        print()"
   ]
  },
  {
   "cell_type": "markdown",
   "metadata": {},
   "source": [
    "We can observe in the output the sentiment score associated to every tweet. Some are pretty accurate (\"Suspect dead after 20 hurt in shooting at New Jersey arts festival\" scored 0.5/1 as negative score ) and others less (\"Panasonic halts operations at 2 Osaka plants after Japan earthquake\" which scored 1 as neutral although I'd interpret it as negative). We would need to tune the model a little to make it more sensitive to some types of words for example or adjust some parameters."
   ]
  },
  {
   "cell_type": "code",
   "execution_count": null,
   "metadata": {},
   "outputs": [],
   "source": []
  }
 ],
 "metadata": {
  "kernelspec": {
   "display_name": "Python 3",
   "language": "python",
   "name": "python3"
  },
  "language_info": {
   "codemirror_mode": {
    "name": "ipython",
    "version": 3
   },
   "file_extension": ".py",
   "mimetype": "text/x-python",
   "name": "python",
   "nbconvert_exporter": "python",
   "pygments_lexer": "ipython3",
   "version": "3.6.5"
  }
 },
 "nbformat": 4,
 "nbformat_minor": 2
}
